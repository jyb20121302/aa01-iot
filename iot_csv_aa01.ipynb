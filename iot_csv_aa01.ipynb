{
  "nbformat": 4,
  "nbformat_minor": 0,
  "metadata": {
    "colab": {
      "name": "iot_csv_aa01",
      "version": "0.3.2",
      "provenance": [],
      "collapsed_sections": [],
      "include_colab_link": true
    },
    "kernelspec": {
      "display_name": "Python 3",
      "language": "python",
      "name": "python3"
    }
  },
  "cells": [
    {
      "cell_type": "markdown",
      "metadata": {
        "id": "view-in-github",
        "colab_type": "text"
      },
      "source": [
        "<a href=\"https://colab.research.google.com/github/jyb20121302/aa01-iot/blob/master/iot_csv_aa01.ipynb\" target=\"_parent\"><img src=\"https://colab.research.google.com/assets/colab-badge.svg\" alt=\"Open In Colab\"/></a>"
      ]
    },
    {
      "metadata": {
        "id": "4RyKlSBw1DjY",
        "colab_type": "text"
      },
      "cell_type": "markdown",
      "source": [
        "### Pandas: Loading the remote csv file\n",
        "\n",
        "> [Pandas: Tutorial-reas_csv()](https://www.marsja.se/pandas-read-csv-tutorial-to-csv/amp/)"
      ]
    },
    {
      "metadata": {
        "id": "y8KjEOPg1Dja",
        "colab_type": "code",
        "colab": {}
      },
      "cell_type": "code",
      "source": [
        "import pandas as pd"
      ],
      "execution_count": 0,
      "outputs": []
    },
    {
      "metadata": {
        "id": "N4sYnKbu1Djg",
        "colab_type": "code",
        "colab": {}
      },
      "cell_type": "code",
      "source": [
        "# url=\"http://chaos.inje.ac.kr:3030/data/ppg5k.csv\"  # CORS powered express server!\n",
        "c=pd.read_csv('AA01_s1000.csv', index_col='date')"
      ],
      "execution_count": 0,
      "outputs": []
    },
    {
      "metadata": {
        "id": "MfB0c8tr1Djj",
        "colab_type": "code",
        "outputId": "8c9adf99-4a5b-418d-cc19-869ff5597520",
        "colab": {
          "base_uri": "https://localhost:8080/",
          "height": 35
        }
      },
      "cell_type": "code",
      "source": [
        "c.shape"
      ],
      "execution_count": 17,
      "outputs": [
        {
          "output_type": "execute_result",
          "data": {
            "text/plain": [
              "(1000, 3)"
            ]
          },
          "metadata": {
            "tags": []
          },
          "execution_count": 17
        }
      ]
    },
    {
      "metadata": {
        "id": "rCMGqVrk1Djr",
        "colab_type": "code",
        "outputId": "0d1a2af8-ff56-418b-cc0f-fb9d7486f52c",
        "colab": {
          "base_uri": "https://localhost:8080/",
          "height": 235
        }
      },
      "cell_type": "code",
      "source": [
        "c.head()"
      ],
      "execution_count": 18,
      "outputs": [
        {
          "output_type": "execute_result",
          "data": {
            "text/html": [
              "<div>\n",
              "<style scoped>\n",
              "    .dataframe tbody tr th:only-of-type {\n",
              "        vertical-align: middle;\n",
              "    }\n",
              "\n",
              "    .dataframe tbody tr th {\n",
              "        vertical-align: top;\n",
              "    }\n",
              "\n",
              "    .dataframe thead th {\n",
              "        text-align: right;\n",
              "    }\n",
              "</style>\n",
              "<table border=\"1\" class=\"dataframe\">\n",
              "  <thead>\n",
              "    <tr style=\"text-align: right;\">\n",
              "      <th></th>\n",
              "      <th>temperature</th>\n",
              "      <th>humidity</th>\n",
              "      <th>luminosity</th>\n",
              "    </tr>\n",
              "    <tr>\n",
              "      <th>date</th>\n",
              "      <th></th>\n",
              "      <th></th>\n",
              "      <th></th>\n",
              "    </tr>\n",
              "  </thead>\n",
              "  <tbody>\n",
              "    <tr>\n",
              "      <th>2018-11-27 18:13:44.103</th>\n",
              "      <td>21.0</td>\n",
              "      <td>29.4</td>\n",
              "      <td>145</td>\n",
              "    </tr>\n",
              "    <tr>\n",
              "      <th>2018-11-27 18:13:41.829</th>\n",
              "      <td>21.0</td>\n",
              "      <td>29.5</td>\n",
              "      <td>146</td>\n",
              "    </tr>\n",
              "    <tr>\n",
              "      <th>2018-11-27 18:13:39.556</th>\n",
              "      <td>21.0</td>\n",
              "      <td>29.6</td>\n",
              "      <td>146</td>\n",
              "    </tr>\n",
              "    <tr>\n",
              "      <th>2018-11-27 18:13:37.283</th>\n",
              "      <td>21.0</td>\n",
              "      <td>29.5</td>\n",
              "      <td>145</td>\n",
              "    </tr>\n",
              "    <tr>\n",
              "      <th>2018-11-27 18:13:35.009</th>\n",
              "      <td>21.0</td>\n",
              "      <td>29.4</td>\n",
              "      <td>145</td>\n",
              "    </tr>\n",
              "  </tbody>\n",
              "</table>\n",
              "</div>"
            ],
            "text/plain": [
              "                         temperature  humidity  luminosity\n",
              "date                                                      \n",
              "2018-11-27 18:13:44.103         21.0      29.4         145\n",
              "2018-11-27 18:13:41.829         21.0      29.5         146\n",
              "2018-11-27 18:13:39.556         21.0      29.6         146\n",
              "2018-11-27 18:13:37.283         21.0      29.5         145\n",
              "2018-11-27 18:13:35.009         21.0      29.4         145"
            ]
          },
          "metadata": {
            "tags": []
          },
          "execution_count": 18
        }
      ]
    },
    {
      "metadata": {
        "id": "HeuT1kwDrwZU",
        "colab_type": "code",
        "outputId": "44a38bff-9d0a-4e4d-96d8-dbfbfb85b0cc",
        "colab": {
          "base_uri": "https://localhost:8080/",
          "height": 235
        }
      },
      "cell_type": "code",
      "source": [
        "c.tail()"
      ],
      "execution_count": 19,
      "outputs": [
        {
          "output_type": "execute_result",
          "data": {
            "text/html": [
              "<div>\n",
              "<style scoped>\n",
              "    .dataframe tbody tr th:only-of-type {\n",
              "        vertical-align: middle;\n",
              "    }\n",
              "\n",
              "    .dataframe tbody tr th {\n",
              "        vertical-align: top;\n",
              "    }\n",
              "\n",
              "    .dataframe thead th {\n",
              "        text-align: right;\n",
              "    }\n",
              "</style>\n",
              "<table border=\"1\" class=\"dataframe\">\n",
              "  <thead>\n",
              "    <tr style=\"text-align: right;\">\n",
              "      <th></th>\n",
              "      <th>temperature</th>\n",
              "      <th>humidity</th>\n",
              "      <th>luminosity</th>\n",
              "    </tr>\n",
              "    <tr>\n",
              "      <th>date</th>\n",
              "      <th></th>\n",
              "      <th></th>\n",
              "      <th></th>\n",
              "    </tr>\n",
              "  </thead>\n",
              "  <tbody>\n",
              "    <tr>\n",
              "      <th>2018-11-27 17:36:02.090</th>\n",
              "      <td>20.9</td>\n",
              "      <td>30.6</td>\n",
              "      <td>152</td>\n",
              "    </tr>\n",
              "    <tr>\n",
              "      <th>2018-11-27 17:35:59.818</th>\n",
              "      <td>20.9</td>\n",
              "      <td>30.7</td>\n",
              "      <td>154</td>\n",
              "    </tr>\n",
              "    <tr>\n",
              "      <th>2018-11-27 17:35:57.544</th>\n",
              "      <td>20.9</td>\n",
              "      <td>30.8</td>\n",
              "      <td>147</td>\n",
              "    </tr>\n",
              "    <tr>\n",
              "      <th>2018-11-27 17:35:55.270</th>\n",
              "      <td>20.9</td>\n",
              "      <td>31.0</td>\n",
              "      <td>139</td>\n",
              "    </tr>\n",
              "    <tr>\n",
              "      <th>2018-11-27 17:35:52.998</th>\n",
              "      <td>20.9</td>\n",
              "      <td>31.0</td>\n",
              "      <td>140</td>\n",
              "    </tr>\n",
              "  </tbody>\n",
              "</table>\n",
              "</div>"
            ],
            "text/plain": [
              "                         temperature  humidity  luminosity\n",
              "date                                                      \n",
              "2018-11-27 17:36:02.090         20.9      30.6         152\n",
              "2018-11-27 17:35:59.818         20.9      30.7         154\n",
              "2018-11-27 17:35:57.544         20.9      30.8         147\n",
              "2018-11-27 17:35:55.270         20.9      31.0         139\n",
              "2018-11-27 17:35:52.998         20.9      31.0         140"
            ]
          },
          "metadata": {
            "tags": []
          },
          "execution_count": 19
        }
      ]
    },
    {
      "metadata": {
        "id": "m8dQtyJa1Djw",
        "colab_type": "code",
        "outputId": "60993eb1-f808-4025-e942-d1d91fc30b25",
        "colab": {
          "base_uri": "https://localhost:8080/",
          "height": 125
        }
      },
      "cell_type": "code",
      "source": [
        "c.info()"
      ],
      "execution_count": 0,
      "outputs": [
        {
          "output_type": "stream",
          "text": [
            "<class 'pandas.core.frame.DataFrame'>\n",
            "Index: 5000 entries, 2015-07-24 12:43:00.7 to 2015-07-24 12:47:12.3\n",
            "Data columns (total 1 columns):\n",
            "PPG    5000 non-null int64\n",
            "dtypes: int64(1)\n",
            "memory usage: 78.1+ KB\n"
          ],
          "name": "stdout"
        }
      ]
    },
    {
      "metadata": {
        "id": "7UXqymzwAd5m",
        "colab_type": "code",
        "colab": {}
      },
      "cell_type": "code",
      "source": [
        "c_s = c.sort_index()"
      ],
      "execution_count": 0,
      "outputs": []
    },
    {
      "metadata": {
        "id": "AP_uBfDHAia2",
        "colab_type": "code",
        "colab": {
          "base_uri": "https://localhost:8080/",
          "height": 235
        },
        "outputId": "69ea9877-cd29-40aa-9d99-455d3a6dc888"
      },
      "cell_type": "code",
      "source": [
        "\n",
        "c_s.head()"
      ],
      "execution_count": 21,
      "outputs": [
        {
          "output_type": "execute_result",
          "data": {
            "text/html": [
              "<div>\n",
              "<style scoped>\n",
              "    .dataframe tbody tr th:only-of-type {\n",
              "        vertical-align: middle;\n",
              "    }\n",
              "\n",
              "    .dataframe tbody tr th {\n",
              "        vertical-align: top;\n",
              "    }\n",
              "\n",
              "    .dataframe thead th {\n",
              "        text-align: right;\n",
              "    }\n",
              "</style>\n",
              "<table border=\"1\" class=\"dataframe\">\n",
              "  <thead>\n",
              "    <tr style=\"text-align: right;\">\n",
              "      <th></th>\n",
              "      <th>temperature</th>\n",
              "      <th>humidity</th>\n",
              "      <th>luminosity</th>\n",
              "    </tr>\n",
              "    <tr>\n",
              "      <th>date</th>\n",
              "      <th></th>\n",
              "      <th></th>\n",
              "      <th></th>\n",
              "    </tr>\n",
              "  </thead>\n",
              "  <tbody>\n",
              "    <tr>\n",
              "      <th>2018-11-27 17:35:52.998</th>\n",
              "      <td>20.9</td>\n",
              "      <td>31.0</td>\n",
              "      <td>140</td>\n",
              "    </tr>\n",
              "    <tr>\n",
              "      <th>2018-11-27 17:35:55.270</th>\n",
              "      <td>20.9</td>\n",
              "      <td>31.0</td>\n",
              "      <td>139</td>\n",
              "    </tr>\n",
              "    <tr>\n",
              "      <th>2018-11-27 17:35:57.544</th>\n",
              "      <td>20.9</td>\n",
              "      <td>30.8</td>\n",
              "      <td>147</td>\n",
              "    </tr>\n",
              "    <tr>\n",
              "      <th>2018-11-27 17:35:59.818</th>\n",
              "      <td>20.9</td>\n",
              "      <td>30.7</td>\n",
              "      <td>154</td>\n",
              "    </tr>\n",
              "    <tr>\n",
              "      <th>2018-11-27 17:36:02.090</th>\n",
              "      <td>20.9</td>\n",
              "      <td>30.6</td>\n",
              "      <td>152</td>\n",
              "    </tr>\n",
              "  </tbody>\n",
              "</table>\n",
              "</div>"
            ],
            "text/plain": [
              "                         temperature  humidity  luminosity\n",
              "date                                                      \n",
              "2018-11-27 17:35:52.998         20.9      31.0         140\n",
              "2018-11-27 17:35:55.270         20.9      31.0         139\n",
              "2018-11-27 17:35:57.544         20.9      30.8         147\n",
              "2018-11-27 17:35:59.818         20.9      30.7         154\n",
              "2018-11-27 17:36:02.090         20.9      30.6         152"
            ]
          },
          "metadata": {
            "tags": []
          },
          "execution_count": 21
        }
      ]
    },
    {
      "metadata": {
        "id": "GeYofktRBD1O",
        "colab_type": "code",
        "colab": {
          "base_uri": "https://localhost:8080/",
          "height": 396
        },
        "outputId": "b9a0cf0f-abe1-4b82-c932-ea1b270527f6"
      },
      "cell_type": "code",
      "source": [
        "\n",
        "c_s.plot(figsize=(12,6))"
      ],
      "execution_count": 24,
      "outputs": [
        {
          "output_type": "execute_result",
          "data": {
            "text/plain": [
              "<matplotlib.axes._subplots.AxesSubplot at 0x7f5d28484710>"
            ]
          },
          "metadata": {
            "tags": []
          },
          "execution_count": 24
        },
        {
          "output_type": "display_data",
          "data": {
            "image/png": "[encoded data removed]",
            "text/plain": [
              "<matplotlib.figure.Figure at 0x7f5d283ddef0>"
            ]
          },
          "metadata": {
            "tags": []
          }
        }
      ]
    },
    {
      "metadata": {
        "id": "0Mjp7Izv1DkK",
        "colab_type": "text"
      },
      "cell_type": "markdown",
      "source": [
        "### iot data\n",
        "> Sensor data from Arduino with CdS and DHT22\n",
        "\n",
        "- temperature\n",
        "- humidity\n",
        "- luminosity"
      ]
    },
    {
      "metadata": {
        "id": "JocMoJ3q1DkL",
        "colab_type": "code",
        "colab": {}
      },
      "cell_type": "code",
      "source": [
        "# url=\"http://chaos.inje.ac.kr:3030/data/iot_chaos.csv\"\n",
        "iot=pd.read_csv('AA01_s1000.csv', index_col='date')"
      ],
      "execution_count": 0,
      "outputs": []
    },
    {
      "metadata": {
        "id": "d-M3o1hI1DkQ",
        "colab_type": "code",
        "outputId": "b9bd2d8a-9000-49d3-968d-a9a8996b110f",
        "colab": {
          "base_uri": "https://localhost:8080/",
          "height": 35
        }
      },
      "cell_type": "code",
      "source": [
        "iot.shape"
      ],
      "execution_count": 27,
      "outputs": [
        {
          "output_type": "execute_result",
          "data": {
            "text/plain": [
              "(1000, 3)"
            ]
          },
          "metadata": {
            "tags": []
          },
          "execution_count": 27
        }
      ]
    },
    {
      "metadata": {
        "id": "b5TKa9bX1DkV",
        "colab_type": "code",
        "outputId": "2649c82e-65c5-4859-84fd-071d5af58587",
        "colab": {
          "base_uri": "https://localhost:8080/",
          "height": 235
        }
      },
      "cell_type": "code",
      "source": [
        "iot.head()"
      ],
      "execution_count": 28,
      "outputs": [
        {
          "output_type": "execute_result",
          "data": {
            "text/html": [
              "<div>\n",
              "<style scoped>\n",
              "    .dataframe tbody tr th:only-of-type {\n",
              "        vertical-align: middle;\n",
              "    }\n",
              "\n",
              "    .dataframe tbody tr th {\n",
              "        vertical-align: top;\n",
              "    }\n",
              "\n",
              "    .dataframe thead th {\n",
              "        text-align: right;\n",
              "    }\n",
              "</style>\n",
              "<table border=\"1\" class=\"dataframe\">\n",
              "  <thead>\n",
              "    <tr style=\"text-align: right;\">\n",
              "      <th></th>\n",
              "      <th>temperature</th>\n",
              "      <th>humidity</th>\n",
              "      <th>luminosity</th>\n",
              "    </tr>\n",
              "    <tr>\n",
              "      <th>date</th>\n",
              "      <th></th>\n",
              "      <th></th>\n",
              "      <th></th>\n",
              "    </tr>\n",
              "  </thead>\n",
              "  <tbody>\n",
              "    <tr>\n",
              "      <th>2018-11-27 18:13:44.103</th>\n",
              "      <td>21.0</td>\n",
              "      <td>29.4</td>\n",
              "      <td>145</td>\n",
              "    </tr>\n",
              "    <tr>\n",
              "      <th>2018-11-27 18:13:41.829</th>\n",
              "      <td>21.0</td>\n",
              "      <td>29.5</td>\n",
              "      <td>146</td>\n",
              "    </tr>\n",
              "    <tr>\n",
              "      <th>2018-11-27 18:13:39.556</th>\n",
              "      <td>21.0</td>\n",
              "      <td>29.6</td>\n",
              "      <td>146</td>\n",
              "    </tr>\n",
              "    <tr>\n",
              "      <th>2018-11-27 18:13:37.283</th>\n",
              "      <td>21.0</td>\n",
              "      <td>29.5</td>\n",
              "      <td>145</td>\n",
              "    </tr>\n",
              "    <tr>\n",
              "      <th>2018-11-27 18:13:35.009</th>\n",
              "      <td>21.0</td>\n",
              "      <td>29.4</td>\n",
              "      <td>145</td>\n",
              "    </tr>\n",
              "  </tbody>\n",
              "</table>\n",
              "</div>"
            ],
            "text/plain": [
              "                         temperature  humidity  luminosity\n",
              "date                                                      \n",
              "2018-11-27 18:13:44.103         21.0      29.4         145\n",
              "2018-11-27 18:13:41.829         21.0      29.5         146\n",
              "2018-11-27 18:13:39.556         21.0      29.6         146\n",
              "2018-11-27 18:13:37.283         21.0      29.5         145\n",
              "2018-11-27 18:13:35.009         21.0      29.4         145"
            ]
          },
          "metadata": {
            "tags": []
          },
          "execution_count": 28
        }
      ]
    },
    {
      "metadata": {
        "id": "CjyUNVTQ1Dkb",
        "colab_type": "code",
        "outputId": "8cb29eca-f036-4b32-9dc8-b1c8318a8556",
        "colab": {
          "base_uri": "https://localhost:8080/",
          "height": 235
        }
      },
      "cell_type": "code",
      "source": [
        "iot.tail()"
      ],
      "execution_count": 29,
      "outputs": [
        {
          "output_type": "execute_result",
          "data": {
            "text/html": [
              "<div>\n",
              "<style scoped>\n",
              "    .dataframe tbody tr th:only-of-type {\n",
              "        vertical-align: middle;\n",
              "    }\n",
              "\n",
              "    .dataframe tbody tr th {\n",
              "        vertical-align: top;\n",
              "    }\n",
              "\n",
              "    .dataframe thead th {\n",
              "        text-align: right;\n",
              "    }\n",
              "</style>\n",
              "<table border=\"1\" class=\"dataframe\">\n",
              "  <thead>\n",
              "    <tr style=\"text-align: right;\">\n",
              "      <th></th>\n",
              "      <th>temperature</th>\n",
              "      <th>humidity</th>\n",
              "      <th>luminosity</th>\n",
              "    </tr>\n",
              "    <tr>\n",
              "      <th>date</th>\n",
              "      <th></th>\n",
              "      <th></th>\n",
              "      <th></th>\n",
              "    </tr>\n",
              "  </thead>\n",
              "  <tbody>\n",
              "    <tr>\n",
              "      <th>2018-11-27 17:36:02.090</th>\n",
              "      <td>20.9</td>\n",
              "      <td>30.6</td>\n",
              "      <td>152</td>\n",
              "    </tr>\n",
              "    <tr>\n",
              "      <th>2018-11-27 17:35:59.818</th>\n",
              "      <td>20.9</td>\n",
              "      <td>30.7</td>\n",
              "      <td>154</td>\n",
              "    </tr>\n",
              "    <tr>\n",
              "      <th>2018-11-27 17:35:57.544</th>\n",
              "      <td>20.9</td>\n",
              "      <td>30.8</td>\n",
              "      <td>147</td>\n",
              "    </tr>\n",
              "    <tr>\n",
              "      <th>2018-11-27 17:35:55.270</th>\n",
              "      <td>20.9</td>\n",
              "      <td>31.0</td>\n",
              "      <td>139</td>\n",
              "    </tr>\n",
              "    <tr>\n",
              "      <th>2018-11-27 17:35:52.998</th>\n",
              "      <td>20.9</td>\n",
              "      <td>31.0</td>\n",
              "      <td>140</td>\n",
              "    </tr>\n",
              "  </tbody>\n",
              "</table>\n",
              "</div>"
            ],
            "text/plain": [
              "                         temperature  humidity  luminosity\n",
              "date                                                      \n",
              "2018-11-27 17:36:02.090         20.9      30.6         152\n",
              "2018-11-27 17:35:59.818         20.9      30.7         154\n",
              "2018-11-27 17:35:57.544         20.9      30.8         147\n",
              "2018-11-27 17:35:55.270         20.9      31.0         139\n",
              "2018-11-27 17:35:52.998         20.9      31.0         140"
            ]
          },
          "metadata": {
            "tags": []
          },
          "execution_count": 29
        }
      ]
    },
    {
      "metadata": {
        "id": "o66Mb3tp1Dki",
        "colab_type": "code",
        "outputId": "8b0dda1c-67be-4e60-fa04-cceef055e66a",
        "colab": {
          "base_uri": "https://localhost:8080/",
          "height": 161
        }
      },
      "cell_type": "code",
      "source": [
        "iot.info()"
      ],
      "execution_count": 30,
      "outputs": [
        {
          "output_type": "stream",
          "text": [
            "<class 'pandas.core.frame.DataFrame'>\n",
            "Index: 1000 entries, 2018-11-27 18:13:44.103 to 2018-11-27 17:35:52.998\n",
            "Data columns (total 3 columns):\n",
            "temperature    1000 non-null float64\n",
            "humidity       1000 non-null float64\n",
            "luminosity     1000 non-null int64\n",
            "dtypes: float64(2), int64(1)\n",
            "memory usage: 31.2+ KB\n"
          ],
          "name": "stdout"
        }
      ]
    },
    {
      "metadata": {
        "id": "DrIb6pwx1Dkn",
        "colab_type": "text"
      },
      "cell_type": "markdown",
      "source": [
        "### Sort index by date"
      ]
    },
    {
      "metadata": {
        "id": "v3ujbMYb1Dkp",
        "colab_type": "code",
        "colab": {}
      },
      "cell_type": "code",
      "source": [
        "iot_s = iot.sort_index()"
      ],
      "execution_count": 0,
      "outputs": []
    },
    {
      "metadata": {
        "id": "OoKNtme61Dkt",
        "colab_type": "code",
        "outputId": "b15de705-b881-4f9f-a757-869004bf2807",
        "colab": {
          "base_uri": "https://localhost:8080/",
          "height": 235
        }
      },
      "cell_type": "code",
      "source": [
        "iot_s.head()"
      ],
      "execution_count": 32,
      "outputs": [
        {
          "output_type": "execute_result",
          "data": {
            "text/html": [
              "<div>\n",
              "<style scoped>\n",
              "    .dataframe tbody tr th:only-of-type {\n",
              "        vertical-align: middle;\n",
              "    }\n",
              "\n",
              "    .dataframe tbody tr th {\n",
              "        vertical-align: top;\n",
              "    }\n",
              "\n",
              "    .dataframe thead th {\n",
              "        text-align: right;\n",
              "    }\n",
              "</style>\n",
              "<table border=\"1\" class=\"dataframe\">\n",
              "  <thead>\n",
              "    <tr style=\"text-align: right;\">\n",
              "      <th></th>\n",
              "      <th>temperature</th>\n",
              "      <th>humidity</th>\n",
              "      <th>luminosity</th>\n",
              "    </tr>\n",
              "    <tr>\n",
              "      <th>date</th>\n",
              "      <th></th>\n",
              "      <th></th>\n",
              "      <th></th>\n",
              "    </tr>\n",
              "  </thead>\n",
              "  <tbody>\n",
              "    <tr>\n",
              "      <th>2018-11-27 17:35:52.998</th>\n",
              "      <td>20.9</td>\n",
              "      <td>31.0</td>\n",
              "      <td>140</td>\n",
              "    </tr>\n",
              "    <tr>\n",
              "      <th>2018-11-27 17:35:55.270</th>\n",
              "      <td>20.9</td>\n",
              "      <td>31.0</td>\n",
              "      <td>139</td>\n",
              "    </tr>\n",
              "    <tr>\n",
              "      <th>2018-11-27 17:35:57.544</th>\n",
              "      <td>20.9</td>\n",
              "      <td>30.8</td>\n",
              "      <td>147</td>\n",
              "    </tr>\n",
              "    <tr>\n",
              "      <th>2018-11-27 17:35:59.818</th>\n",
              "      <td>20.9</td>\n",
              "      <td>30.7</td>\n",
              "      <td>154</td>\n",
              "    </tr>\n",
              "    <tr>\n",
              "      <th>2018-11-27 17:36:02.090</th>\n",
              "      <td>20.9</td>\n",
              "      <td>30.6</td>\n",
              "      <td>152</td>\n",
              "    </tr>\n",
              "  </tbody>\n",
              "</table>\n",
              "</div>"
            ],
            "text/plain": [
              "                         temperature  humidity  luminosity\n",
              "date                                                      \n",
              "2018-11-27 17:35:52.998         20.9      31.0         140\n",
              "2018-11-27 17:35:55.270         20.9      31.0         139\n",
              "2018-11-27 17:35:57.544         20.9      30.8         147\n",
              "2018-11-27 17:35:59.818         20.9      30.7         154\n",
              "2018-11-27 17:36:02.090         20.9      30.6         152"
            ]
          },
          "metadata": {
            "tags": []
          },
          "execution_count": 32
        }
      ]
    },
    {
      "metadata": {
        "id": "ShvtLDxd1Dk0",
        "colab_type": "code",
        "outputId": "8a7f4ee0-71e6-4d12-cae6-ae66ba30ef34",
        "colab": {
          "base_uri": "https://localhost:8080/",
          "height": 396
        }
      },
      "cell_type": "code",
      "source": [
        "iot_s.plot(figsize=(12,6))"
      ],
      "execution_count": 33,
      "outputs": [
        {
          "output_type": "execute_result",
          "data": {
            "text/plain": [
              "<matplotlib.axes._subplots.AxesSubplot at 0x7f5d25abdd30>"
            ]
          },
          "metadata": {
            "tags": []
          },
          "execution_count": 33
        },
        {
          "output_type": "display_data",
          "data": {
            "image/png": "[encoded data removed]",
            "text/plain": [
              "<matplotlib.figure.Figure at 0x7f5d283f86a0>"
            ]
          },
          "metadata": {
            "tags": []
          }
        }
      ]
    },
    {
      "metadata": {
        "id": "NIrq0QfJ1Dk6",
        "colab_type": "code",
        "outputId": "e4ac5639-8b89-4e36-c041-44557d424380",
        "colab": {
          "base_uri": "https://localhost:8080/",
          "height": 89
        }
      },
      "cell_type": "code",
      "source": [
        "iot_s.mean()"
      ],
      "execution_count": 34,
      "outputs": [
        {
          "output_type": "execute_result",
          "data": {
            "text/plain": [
              "temperature     20.9760\n",
              "humidity        30.2034\n",
              "luminosity     140.5880\n",
              "dtype: float64"
            ]
          },
          "metadata": {
            "tags": []
          },
          "execution_count": 34
        }
      ]
    },
    {
      "metadata": {
        "id": "T_NXwO3v1Dk-",
        "colab_type": "code",
        "outputId": "cfc3a03b-53a1-4434-ca82-320ebaef1e4a",
        "colab": {
          "base_uri": "https://localhost:8080/",
          "height": 397
        }
      },
      "cell_type": "code",
      "source": [
        "iot_s.mean().plot.bar(figsize=(10,5), title=\"iot data: temp, humi, lumi\")"
      ],
      "execution_count": 35,
      "outputs": [
        {
          "output_type": "execute_result",
          "data": {
            "text/plain": [
              "<matplotlib.axes._subplots.AxesSubplot at 0x7f5d259d6668>"
            ]
          },
          "metadata": {
            "tags": []
          },
          "execution_count": 35
        },
        {
          "output_type": "display_data",
          "data": {
            "image/png": "[encoded data removed]",
            "text/plain": [
              "<matplotlib.figure.Figure at 0x7f5d259da9e8>"
            ]
          },
          "metadata": {
            "tags": []
          }
        }
      ]
    },
    {
      "metadata": {
        "id": "TYGSDEGP1DlE",
        "colab_type": "text"
      },
      "cell_type": "markdown",
      "source": [
        "## Plot the change of sensor data over various time spans.\n",
        "\n",
        "- resample the data at different frequency\n",
        "- time span: 60 sec, 1 hour, 1 day, 1 week"
      ]
    },
    {
      "metadata": {
        "id": "dPgcIFOP1DlF",
        "colab_type": "code",
        "outputId": "c2f13f14-e594-43da-89a7-03d097ae436d",
        "colab": {
          "base_uri": "https://localhost:8080/",
          "height": 161
        }
      },
      "cell_type": "code",
      "source": [
        "iot_s.info()"
      ],
      "execution_count": 36,
      "outputs": [
        {
          "output_type": "stream",
          "text": [
            "<class 'pandas.core.frame.DataFrame'>\n",
            "Index: 1000 entries, 2018-11-27 17:35:52.998 to 2018-11-27 18:13:44.103\n",
            "Data columns (total 3 columns):\n",
            "temperature    1000 non-null float64\n",
            "humidity       1000 non-null float64\n",
            "luminosity     1000 non-null int64\n",
            "dtypes: float64(2), int64(1)\n",
            "memory usage: 31.2+ KB\n"
          ],
          "name": "stdout"
        }
      ]
    },
    {
      "metadata": {
        "id": "zr1RA5Ix1DlJ",
        "colab_type": "code",
        "outputId": "289102d8-1e68-49a8-e63c-398d27b34b4b",
        "colab": {
          "base_uri": "https://localhost:8080/",
          "height": 35
        }
      },
      "cell_type": "code",
      "source": [
        "# type of index\n",
        "iot_s.index[0], type(iot_s.index[0])"
      ],
      "execution_count": 37,
      "outputs": [
        {
          "output_type": "execute_result",
          "data": {
            "text/plain": [
              "('2018-11-27 17:35:52.998', str)"
            ]
          },
          "metadata": {
            "tags": []
          },
          "execution_count": 37
        }
      ]
    },
    {
      "metadata": {
        "id": "2Tsb1Z9x1DlN",
        "colab_type": "code",
        "colab": {}
      },
      "cell_type": "code",
      "source": [
        "# Convert index to timestamp\n",
        "iot_s.index = pd.to_datetime(iot_s.index)"
      ],
      "execution_count": 0,
      "outputs": []
    },
    {
      "metadata": {
        "id": "9mAeysp31DlU",
        "colab_type": "code",
        "outputId": "5ef4398c-edc5-48cb-fc5d-664bf6a86250",
        "colab": {
          "base_uri": "https://localhost:8080/",
          "height": 161
        }
      },
      "cell_type": "code",
      "source": [
        "iot_s.info()"
      ],
      "execution_count": 39,
      "outputs": [
        {
          "output_type": "stream",
          "text": [
            "<class 'pandas.core.frame.DataFrame'>\n",
            "DatetimeIndex: 1000 entries, 2018-11-27 17:35:52.998000 to 2018-11-27 18:13:44.103000\n",
            "Data columns (total 3 columns):\n",
            "temperature    1000 non-null float64\n",
            "humidity       1000 non-null float64\n",
            "luminosity     1000 non-null int64\n",
            "dtypes: float64(2), int64(1)\n",
            "memory usage: 31.2 KB\n"
          ],
          "name": "stdout"
        }
      ]
    },
    {
      "metadata": {
        "id": "p0dZyoMy1DlY",
        "colab_type": "code",
        "outputId": "c2d9b575-c679-4bd8-a1e2-44a4afc65e08",
        "colab": {
          "base_uri": "https://localhost:8080/",
          "height": 1289
        }
      },
      "cell_type": "code",
      "source": [
        "# Estimate the mean of iot_s for every hour\n",
        "iot_s.resample('60S').mean()  # mean per each 1minute"
      ],
      "execution_count": 45,
      "outputs": [
        {
          "output_type": "execute_result",
          "data": {
            "text/html": [
              "<div>\n",
              "<style scoped>\n",
              "    .dataframe tbody tr th:only-of-type {\n",
              "        vertical-align: middle;\n",
              "    }\n",
              "\n",
              "    .dataframe tbody tr th {\n",
              "        vertical-align: top;\n",
              "    }\n",
              "\n",
              "    .dataframe thead th {\n",
              "        text-align: right;\n",
              "    }\n",
              "</style>\n",
              "<table border=\"1\" class=\"dataframe\">\n",
              "  <thead>\n",
              "    <tr style=\"text-align: right;\">\n",
              "      <th></th>\n",
              "      <th>temperature</th>\n",
              "      <th>humidity</th>\n",
              "      <th>luminosity</th>\n",
              "    </tr>\n",
              "    <tr>\n",
              "      <th>date</th>\n",
              "      <th></th>\n",
              "      <th></th>\n",
              "      <th></th>\n",
              "    </tr>\n",
              "  </thead>\n",
              "  <tbody>\n",
              "    <tr>\n",
              "      <th>2018-11-27 17:35:00</th>\n",
              "      <td>20.900000</td>\n",
              "      <td>30.875000</td>\n",
              "      <td>145.000000</td>\n",
              "    </tr>\n",
              "    <tr>\n",
              "      <th>2018-11-27 17:36:00</th>\n",
              "      <td>20.903846</td>\n",
              "      <td>31.203846</td>\n",
              "      <td>151.192308</td>\n",
              "    </tr>\n",
              "    <tr>\n",
              "      <th>2018-11-27 17:37:00</th>\n",
              "      <td>20.900000</td>\n",
              "      <td>30.319231</td>\n",
              "      <td>144.846154</td>\n",
              "    </tr>\n",
              "    <tr>\n",
              "      <th>2018-11-27 17:38:00</th>\n",
              "      <td>20.907407</td>\n",
              "      <td>29.996296</td>\n",
              "      <td>140.666667</td>\n",
              "    </tr>\n",
              "    <tr>\n",
              "      <th>2018-11-27 17:39:00</th>\n",
              "      <td>20.915385</td>\n",
              "      <td>29.880769</td>\n",
              "      <td>139.384615</td>\n",
              "    </tr>\n",
              "    <tr>\n",
              "      <th>2018-11-27 17:40:00</th>\n",
              "      <td>21.000000</td>\n",
              "      <td>30.281481</td>\n",
              "      <td>138.592593</td>\n",
              "    </tr>\n",
              "    <tr>\n",
              "      <th>2018-11-27 17:41:00</th>\n",
              "      <td>21.000000</td>\n",
              "      <td>30.061538</td>\n",
              "      <td>138.461538</td>\n",
              "    </tr>\n",
              "    <tr>\n",
              "      <th>2018-11-27 17:42:00</th>\n",
              "      <td>21.000000</td>\n",
              "      <td>30.819231</td>\n",
              "      <td>138.461538</td>\n",
              "    </tr>\n",
              "    <tr>\n",
              "      <th>2018-11-27 17:43:00</th>\n",
              "      <td>20.996296</td>\n",
              "      <td>29.729630</td>\n",
              "      <td>137.777778</td>\n",
              "    </tr>\n",
              "    <tr>\n",
              "      <th>2018-11-27 17:44:00</th>\n",
              "      <td>21.000000</td>\n",
              "      <td>30.676923</td>\n",
              "      <td>138.115385</td>\n",
              "    </tr>\n",
              "    <tr>\n",
              "      <th>2018-11-27 17:45:00</th>\n",
              "      <td>20.996296</td>\n",
              "      <td>30.244444</td>\n",
              "      <td>139.333333</td>\n",
              "    </tr>\n",
              "    <tr>\n",
              "      <th>2018-11-27 17:46:00</th>\n",
              "      <td>21.000000</td>\n",
              "      <td>30.100000</td>\n",
              "      <td>139.192308</td>\n",
              "    </tr>\n",
              "    <tr>\n",
              "      <th>2018-11-27 17:47:00</th>\n",
              "      <td>21.000000</td>\n",
              "      <td>29.738462</td>\n",
              "      <td>139.730769</td>\n",
              "    </tr>\n",
              "    <tr>\n",
              "      <th>2018-11-27 17:48:00</th>\n",
              "      <td>20.981481</td>\n",
              "      <td>29.459259</td>\n",
              "      <td>139.037037</td>\n",
              "    </tr>\n",
              "    <tr>\n",
              "      <th>2018-11-27 17:49:00</th>\n",
              "      <td>20.988462</td>\n",
              "      <td>29.884615</td>\n",
              "      <td>139.423077</td>\n",
              "    </tr>\n",
              "    <tr>\n",
              "      <th>2018-11-27 17:50:00</th>\n",
              "      <td>21.015385</td>\n",
              "      <td>31.896154</td>\n",
              "      <td>127.807692</td>\n",
              "    </tr>\n",
              "    <tr>\n",
              "      <th>2018-11-27 17:51:00</th>\n",
              "      <td>21.096296</td>\n",
              "      <td>32.240741</td>\n",
              "      <td>136.592593</td>\n",
              "    </tr>\n",
              "    <tr>\n",
              "      <th>2018-11-27 17:52:00</th>\n",
              "      <td>21.103846</td>\n",
              "      <td>30.511538</td>\n",
              "      <td>139.769231</td>\n",
              "    </tr>\n",
              "    <tr>\n",
              "      <th>2018-11-27 17:53:00</th>\n",
              "      <td>21.100000</td>\n",
              "      <td>29.388889</td>\n",
              "      <td>141.148148</td>\n",
              "    </tr>\n",
              "    <tr>\n",
              "      <th>2018-11-27 17:54:00</th>\n",
              "      <td>21.057692</td>\n",
              "      <td>29.523077</td>\n",
              "      <td>140.423077</td>\n",
              "    </tr>\n",
              "    <tr>\n",
              "      <th>2018-11-27 17:55:00</th>\n",
              "      <td>20.980769</td>\n",
              "      <td>29.561538</td>\n",
              "      <td>140.269231</td>\n",
              "    </tr>\n",
              "    <tr>\n",
              "      <th>2018-11-27 17:56:00</th>\n",
              "      <td>20.996296</td>\n",
              "      <td>29.792593</td>\n",
              "      <td>140.703704</td>\n",
              "    </tr>\n",
              "    <tr>\n",
              "      <th>2018-11-27 17:57:00</th>\n",
              "      <td>20.919231</td>\n",
              "      <td>29.742308</td>\n",
              "      <td>141.846154</td>\n",
              "    </tr>\n",
              "    <tr>\n",
              "      <th>2018-11-27 17:58:00</th>\n",
              "      <td>20.940741</td>\n",
              "      <td>30.751852</td>\n",
              "      <td>142.888889</td>\n",
              "    </tr>\n",
              "    <tr>\n",
              "      <th>2018-11-27 17:59:00</th>\n",
              "      <td>20.973077</td>\n",
              "      <td>30.111538</td>\n",
              "      <td>143.384615</td>\n",
              "    </tr>\n",
              "    <tr>\n",
              "      <th>2018-11-27 18:00:00</th>\n",
              "      <td>20.900000</td>\n",
              "      <td>30.596154</td>\n",
              "      <td>142.423077</td>\n",
              "    </tr>\n",
              "    <tr>\n",
              "      <th>2018-11-27 18:01:00</th>\n",
              "      <td>20.900000</td>\n",
              "      <td>30.596296</td>\n",
              "      <td>138.518519</td>\n",
              "    </tr>\n",
              "    <tr>\n",
              "      <th>2018-11-27 18:02:00</th>\n",
              "      <td>20.900000</td>\n",
              "      <td>29.734615</td>\n",
              "      <td>138.884615</td>\n",
              "    </tr>\n",
              "    <tr>\n",
              "      <th>2018-11-27 18:03:00</th>\n",
              "      <td>20.903704</td>\n",
              "      <td>30.474074</td>\n",
              "      <td>140.259259</td>\n",
              "    </tr>\n",
              "    <tr>\n",
              "      <th>2018-11-27 18:04:00</th>\n",
              "      <td>20.965385</td>\n",
              "      <td>29.973077</td>\n",
              "      <td>141.961538</td>\n",
              "    </tr>\n",
              "    <tr>\n",
              "      <th>2018-11-27 18:05:00</th>\n",
              "      <td>20.984615</td>\n",
              "      <td>29.730769</td>\n",
              "      <td>141.769231</td>\n",
              "    </tr>\n",
              "    <tr>\n",
              "      <th>2018-11-27 18:06:00</th>\n",
              "      <td>20.992593</td>\n",
              "      <td>31.162963</td>\n",
              "      <td>140.925926</td>\n",
              "    </tr>\n",
              "    <tr>\n",
              "      <th>2018-11-27 18:07:00</th>\n",
              "      <td>20.953846</td>\n",
              "      <td>29.773077</td>\n",
              "      <td>147.384615</td>\n",
              "    </tr>\n",
              "    <tr>\n",
              "      <th>2018-11-27 18:08:00</th>\n",
              "      <td>20.907407</td>\n",
              "      <td>29.437037</td>\n",
              "      <td>148.481481</td>\n",
              "    </tr>\n",
              "    <tr>\n",
              "      <th>2018-11-27 18:09:00</th>\n",
              "      <td>20.923077</td>\n",
              "      <td>30.503846</td>\n",
              "      <td>137.769231</td>\n",
              "    </tr>\n",
              "    <tr>\n",
              "      <th>2018-11-27 18:10:00</th>\n",
              "      <td>21.000000</td>\n",
              "      <td>30.296154</td>\n",
              "      <td>147.576923</td>\n",
              "    </tr>\n",
              "    <tr>\n",
              "      <th>2018-11-27 18:11:00</th>\n",
              "      <td>21.000000</td>\n",
              "      <td>30.170370</td>\n",
              "      <td>146.740741</td>\n",
              "    </tr>\n",
              "    <tr>\n",
              "      <th>2018-11-27 18:12:00</th>\n",
              "      <td>21.000000</td>\n",
              "      <td>29.611538</td>\n",
              "      <td>126.115385</td>\n",
              "    </tr>\n",
              "    <tr>\n",
              "      <th>2018-11-27 18:13:00</th>\n",
              "      <td>21.000000</td>\n",
              "      <td>29.440000</td>\n",
              "      <td>144.600000</td>\n",
              "    </tr>\n",
              "  </tbody>\n",
              "</table>\n",
              "</div>"
            ],
            "text/plain": [
              "                     temperature   humidity  luminosity\n",
              "date                                                   \n",
              "2018-11-27 17:35:00    20.900000  30.875000  145.000000\n",
              "2018-11-27 17:36:00    20.903846  31.203846  151.192308\n",
              "2018-11-27 17:37:00    20.900000  30.319231  144.846154\n",
              "2018-11-27 17:38:00    20.907407  29.996296  140.666667\n",
              "2018-11-27 17:39:00    20.915385  29.880769  139.384615\n",
              "2018-11-27 17:40:00    21.000000  30.281481  138.592593\n",
              "2018-11-27 17:41:00    21.000000  30.061538  138.461538\n",
              "2018-11-27 17:42:00    21.000000  30.819231  138.461538\n",
              "2018-11-27 17:43:00    20.996296  29.729630  137.777778\n",
              "2018-11-27 17:44:00    21.000000  30.676923  138.115385\n",
              "2018-11-27 17:45:00    20.996296  30.244444  139.333333\n",
              "2018-11-27 17:46:00    21.000000  30.100000  139.192308\n",
              "2018-11-27 17:47:00    21.000000  29.738462  139.730769\n",
              "2018-11-27 17:48:00    20.981481  29.459259  139.037037\n",
              "2018-11-27 17:49:00    20.988462  29.884615  139.423077\n",
              "2018-11-27 17:50:00    21.015385  31.896154  127.807692\n",
              "2018-11-27 17:51:00    21.096296  32.240741  136.592593\n",
              "2018-11-27 17:52:00    21.103846  30.511538  139.769231\n",
              "2018-11-27 17:53:00    21.100000  29.388889  141.148148\n",
              "2018-11-27 17:54:00    21.057692  29.523077  140.423077\n",
              "2018-11-27 17:55:00    20.980769  29.561538  140.269231\n",
              "2018-11-27 17:56:00    20.996296  29.792593  140.703704\n",
              "2018-11-27 17:57:00    20.919231  29.742308  141.846154\n",
              "2018-11-27 17:58:00    20.940741  30.751852  142.888889\n",
              "2018-11-27 17:59:00    20.973077  30.111538  143.384615\n",
              "2018-11-27 18:00:00    20.900000  30.596154  142.423077\n",
              "2018-11-27 18:01:00    20.900000  30.596296  138.518519\n",
              "2018-11-27 18:02:00    20.900000  29.734615  138.884615\n",
              "2018-11-27 18:03:00    20.903704  30.474074  140.259259\n",
              "2018-11-27 18:04:00    20.965385  29.973077  141.961538\n",
              "2018-11-27 18:05:00    20.984615  29.730769  141.769231\n",
              "2018-11-27 18:06:00    20.992593  31.162963  140.925926\n",
              "2018-11-27 18:07:00    20.953846  29.773077  147.384615\n",
              "2018-11-27 18:08:00    20.907407  29.437037  148.481481\n",
              "2018-11-27 18:09:00    20.923077  30.503846  137.769231\n",
              "2018-11-27 18:10:00    21.000000  30.296154  147.576923\n",
              "2018-11-27 18:11:00    21.000000  30.170370  146.740741\n",
              "2018-11-27 18:12:00    21.000000  29.611538  126.115385\n",
              "2018-11-27 18:13:00    21.000000  29.440000  144.600000"
            ]
          },
          "metadata": {
            "tags": []
          },
          "execution_count": 45
        }
      ]
    },
    {
      "metadata": {
        "id": "i3BiiT-L1Dle",
        "colab_type": "code",
        "outputId": "df18c0fe-4498-4b11-d0fb-1c726a1ef551",
        "colab": {
          "base_uri": "https://localhost:8080/",
          "height": 421
        }
      },
      "cell_type": "code",
      "source": [
        "#  Plot mean of the iot data per every hour \n",
        "iot_s.resample('60S').mean().plot(figsize=(12,6), title='1minute change of temp, humi, and lumi', \n",
        "                                ylim=[0,160])"
      ],
      "execution_count": 55,
      "outputs": [
        {
          "output_type": "execute_result",
          "data": {
            "text/plain": [
              "<matplotlib.axes._subplots.AxesSubplot at 0x7f5d254a6518>"
            ]
          },
          "metadata": {
            "tags": []
          },
          "execution_count": 55
        },
        {
          "output_type": "display_data",
          "data": {
            "image/png": "[encoded data removed]",
            "text/plain": [
              "<matplotlib.figure.Figure at 0x7f5d2554e048>"
            ]
          },
          "metadata": {
            "tags": []
          }
        }
      ]
    },
    {
      "metadata": {
        "id": "wRBT0yo-DFOL",
        "colab_type": "code",
        "colab": {
          "base_uri": "https://localhost:8080/",
          "height": 328
        },
        "outputId": "184e8fea-d6a2-4119-b395-89be5bd8c59b"
      },
      "cell_type": "code",
      "source": [
        "# Estimate the mean of iot_s for every hour\n",
        "iot_s.resample('300S').mean()  # mean per each 5minute"
      ],
      "execution_count": 48,
      "outputs": [
        {
          "output_type": "execute_result",
          "data": {
            "text/html": [
              "<div>\n",
              "<style scoped>\n",
              "    .dataframe tbody tr th:only-of-type {\n",
              "        vertical-align: middle;\n",
              "    }\n",
              "\n",
              "    .dataframe tbody tr th {\n",
              "        vertical-align: top;\n",
              "    }\n",
              "\n",
              "    .dataframe thead th {\n",
              "        text-align: right;\n",
              "    }\n",
              "</style>\n",
              "<table border=\"1\" class=\"dataframe\">\n",
              "  <thead>\n",
              "    <tr style=\"text-align: right;\">\n",
              "      <th></th>\n",
              "      <th>temperature</th>\n",
              "      <th>humidity</th>\n",
              "      <th>luminosity</th>\n",
              "    </tr>\n",
              "    <tr>\n",
              "      <th>date</th>\n",
              "      <th></th>\n",
              "      <th></th>\n",
              "      <th></th>\n",
              "    </tr>\n",
              "  </thead>\n",
              "  <tbody>\n",
              "    <tr>\n",
              "      <th>2018-11-27 17:35:00</th>\n",
              "      <td>20.906422</td>\n",
              "      <td>30.366055</td>\n",
              "      <td>144.027523</td>\n",
              "    </tr>\n",
              "    <tr>\n",
              "      <th>2018-11-27 17:40:00</th>\n",
              "      <td>20.999242</td>\n",
              "      <td>30.309091</td>\n",
              "      <td>138.280303</td>\n",
              "    </tr>\n",
              "    <tr>\n",
              "      <th>2018-11-27 17:45:00</th>\n",
              "      <td>20.993182</td>\n",
              "      <td>29.884848</td>\n",
              "      <td>139.340909</td>\n",
              "    </tr>\n",
              "    <tr>\n",
              "      <th>2018-11-27 17:50:00</th>\n",
              "      <td>21.075000</td>\n",
              "      <td>30.713636</td>\n",
              "      <td>137.174242</td>\n",
              "    </tr>\n",
              "    <tr>\n",
              "      <th>2018-11-27 17:55:00</th>\n",
              "      <td>20.962121</td>\n",
              "      <td>29.996212</td>\n",
              "      <td>141.818182</td>\n",
              "    </tr>\n",
              "    <tr>\n",
              "      <th>2018-11-27 18:00:00</th>\n",
              "      <td>20.913636</td>\n",
              "      <td>30.278788</td>\n",
              "      <td>140.393939</td>\n",
              "    </tr>\n",
              "    <tr>\n",
              "      <th>2018-11-27 18:05:00</th>\n",
              "      <td>20.952273</td>\n",
              "      <td>30.124242</td>\n",
              "      <td>143.287879</td>\n",
              "    </tr>\n",
              "    <tr>\n",
              "      <th>2018-11-27 18:10:00</th>\n",
              "      <td>21.000000</td>\n",
              "      <td>29.909091</td>\n",
              "      <td>141.111111</td>\n",
              "    </tr>\n",
              "  </tbody>\n",
              "</table>\n",
              "</div>"
            ],
            "text/plain": [
              "                     temperature   humidity  luminosity\n",
              "date                                                   \n",
              "2018-11-27 17:35:00    20.906422  30.366055  144.027523\n",
              "2018-11-27 17:40:00    20.999242  30.309091  138.280303\n",
              "2018-11-27 17:45:00    20.993182  29.884848  139.340909\n",
              "2018-11-27 17:50:00    21.075000  30.713636  137.174242\n",
              "2018-11-27 17:55:00    20.962121  29.996212  141.818182\n",
              "2018-11-27 18:00:00    20.913636  30.278788  140.393939\n",
              "2018-11-27 18:05:00    20.952273  30.124242  143.287879\n",
              "2018-11-27 18:10:00    21.000000  29.909091  141.111111"
            ]
          },
          "metadata": {
            "tags": []
          },
          "execution_count": 48
        }
      ]
    },
    {
      "metadata": {
        "id": "hM6Tncc6DVLx",
        "colab_type": "code",
        "colab": {
          "base_uri": "https://localhost:8080/",
          "height": 421
        },
        "outputId": "56287730-0c89-44b8-851e-f7c2cba87a46"
      },
      "cell_type": "code",
      "source": [
        "#  Plot mean of the iot data per every hour \n",
        "iot_s.resample('300S').mean().plot(figsize=(12,6), title='5minute change of temp, humi, and lumi', \n",
        "                                ylim=[0,160])"
      ],
      "execution_count": 54,
      "outputs": [
        {
          "output_type": "execute_result",
          "data": {
            "text/plain": [
              "<matplotlib.axes._subplots.AxesSubplot at 0x7f5d255e7898>"
            ]
          },
          "metadata": {
            "tags": []
          },
          "execution_count": 54
        },
        {
          "output_type": "display_data",
          "data": {
            "image/png": "[encoded data removed]",
            "text/plain": [
              "<matplotlib.figure.Figure at 0x7f5d2556a630>"
            ]
          },
          "metadata": {
            "tags": []
          }
        }
      ]
    },
    {
      "metadata": {
        "id": "uyTdR2PLDfVS",
        "colab_type": "code",
        "colab": {
          "base_uri": "https://localhost:8080/",
          "height": 235
        },
        "outputId": "dc26c071-2e9a-4283-92bb-fcaa64b1185b"
      },
      "cell_type": "code",
      "source": [
        "# Estimate the mean of iot_s for every hour\n",
        "iot_s.resample('600S').mean()  # mean per each 10minute"
      ],
      "execution_count": 51,
      "outputs": [
        {
          "output_type": "execute_result",
          "data": {
            "text/html": [
              "<div>\n",
              "<style scoped>\n",
              "    .dataframe tbody tr th:only-of-type {\n",
              "        vertical-align: middle;\n",
              "    }\n",
              "\n",
              "    .dataframe tbody tr th {\n",
              "        vertical-align: top;\n",
              "    }\n",
              "\n",
              "    .dataframe thead th {\n",
              "        text-align: right;\n",
              "    }\n",
              "</style>\n",
              "<table border=\"1\" class=\"dataframe\">\n",
              "  <thead>\n",
              "    <tr style=\"text-align: right;\">\n",
              "      <th></th>\n",
              "      <th>temperature</th>\n",
              "      <th>humidity</th>\n",
              "      <th>luminosity</th>\n",
              "    </tr>\n",
              "    <tr>\n",
              "      <th>date</th>\n",
              "      <th></th>\n",
              "      <th></th>\n",
              "      <th></th>\n",
              "    </tr>\n",
              "  </thead>\n",
              "  <tbody>\n",
              "    <tr>\n",
              "      <th>2018-11-27 17:30:00</th>\n",
              "      <td>20.906422</td>\n",
              "      <td>30.366055</td>\n",
              "      <td>144.027523</td>\n",
              "    </tr>\n",
              "    <tr>\n",
              "      <th>2018-11-27 17:40:00</th>\n",
              "      <td>20.996212</td>\n",
              "      <td>30.096970</td>\n",
              "      <td>138.810606</td>\n",
              "    </tr>\n",
              "    <tr>\n",
              "      <th>2018-11-27 17:50:00</th>\n",
              "      <td>21.018561</td>\n",
              "      <td>30.354924</td>\n",
              "      <td>139.496212</td>\n",
              "    </tr>\n",
              "    <tr>\n",
              "      <th>2018-11-27 18:00:00</th>\n",
              "      <td>20.932955</td>\n",
              "      <td>30.201515</td>\n",
              "      <td>141.840909</td>\n",
              "    </tr>\n",
              "    <tr>\n",
              "      <th>2018-11-27 18:10:00</th>\n",
              "      <td>21.000000</td>\n",
              "      <td>29.909091</td>\n",
              "      <td>141.111111</td>\n",
              "    </tr>\n",
              "  </tbody>\n",
              "</table>\n",
              "</div>"
            ],
            "text/plain": [
              "                     temperature   humidity  luminosity\n",
              "date                                                   \n",
              "2018-11-27 17:30:00    20.906422  30.366055  144.027523\n",
              "2018-11-27 17:40:00    20.996212  30.096970  138.810606\n",
              "2018-11-27 17:50:00    21.018561  30.354924  139.496212\n",
              "2018-11-27 18:00:00    20.932955  30.201515  141.840909\n",
              "2018-11-27 18:10:00    21.000000  29.909091  141.111111"
            ]
          },
          "metadata": {
            "tags": []
          },
          "execution_count": 51
        }
      ]
    },
    {
      "metadata": {
        "id": "1Na-aiX31Dli",
        "colab_type": "code",
        "outputId": "b94ee329-b84f-4fa5-c590-66d77ae42ec0",
        "colab": {
          "base_uri": "https://localhost:8080/",
          "height": 421
        }
      },
      "cell_type": "code",
      "source": [
        "#  Plot mean of the iot data per every day\n",
        "iot_s.resample('600S').mean().plot(kind='line', marker='o', ms=15, figsize=(12,6), title='10minute change of temperature, humidity, and luminosity')"
      ],
      "execution_count": 58,
      "outputs": [
        {
          "output_type": "execute_result",
          "data": {
            "text/plain": [
              "<matplotlib.axes._subplots.AxesSubplot at 0x7f5d253562e8>"
            ]
          },
          "metadata": {
            "tags": []
          },
          "execution_count": 58
        },
        {
          "output_type": "display_data",
          "data": {
            "image/png": "[encoded data removed]",
            "text/plain": [
              "<matplotlib.figure.Figure at 0x7f5d253cfb00>"
            ]
          },
          "metadata": {
            "tags": []
          }
        }
      ]
    },
    {
      "metadata": {
        "id": "zNs608SE3PxR",
        "colab_type": "text"
      },
      "cell_type": "markdown",
      "source": [
        "\n",
        "\n",
        "---\n",
        "\n"
      ]
    },
    {
      "metadata": {
        "id": "bSJOj1mh1Dl0",
        "colab_type": "code",
        "colab": {}
      },
      "cell_type": "code",
      "source": [
        ""
      ],
      "execution_count": 0,
      "outputs": []
    }
  ]
}